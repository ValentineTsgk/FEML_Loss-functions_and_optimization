{
  "cells": [
    {
      "cell_type": "markdown",
      "metadata": {},
      "source": [
        "# Функции потерь и оптимизация"
      ]
    },
    {
      "cell_type": "markdown",
      "metadata": {},
      "source": [
        "##  1. Импорт необходимых библиотек"
      ]
    },
    {
      "cell_type": "code",
      "execution_count": 588,
      "metadata": {},
      "outputs": [
        {
          "name": "stdout",
          "output_type": "stream",
          "text": [
            "Collecting https://github.com/pandas-profiling/pandas-profiling/archive/master.zip\n",
            "  Using cached https://github.com/pandas-profiling/pandas-profiling/archive/master.zip\n",
            "  Preparing metadata (setup.py) ... \u001b[?25ldone\n",
            "\u001b[?25hRequirement already satisfied: joblib~=1.1.0 in /Users/valentincyganok/miniforge3/envs/env_tensorflow/lib/python3.9/site-packages (from pandas-profiling==3.1.1) (1.1.0)\n",
            "Requirement already satisfied: scipy>=1.4.1 in /Users/valentincyganok/miniforge3/envs/env_tensorflow/lib/python3.9/site-packages (from pandas-profiling==3.1.1) (1.5.3)\n",
            "Requirement already satisfied: pandas!=1.0.0,!=1.0.1,!=1.0.2,!=1.1.0,>=0.25.3 in /Users/valentincyganok/miniforge3/envs/env_tensorflow/lib/python3.9/site-packages (from pandas-profiling==3.1.1) (1.3.4)\n",
            "Requirement already satisfied: matplotlib>=3.2.0 in /Users/valentincyganok/miniforge3/envs/env_tensorflow/lib/python3.9/site-packages (from pandas-profiling==3.1.1) (3.5.0)\n",
            "Requirement already satisfied: pydantic>=1.8.1 in /Users/valentincyganok/miniforge3/envs/env_tensorflow/lib/python3.9/site-packages (from pandas-profiling==3.1.1) (1.8.2)\n",
            "Requirement already satisfied: PyYAML>=5.0.0 in /Users/valentincyganok/miniforge3/envs/env_tensorflow/lib/python3.9/site-packages (from pandas-profiling==3.1.1) (5.4.1)\n",
            "Requirement already satisfied: jinja2>=2.11.1 in /Users/valentincyganok/miniforge3/envs/env_tensorflow/lib/python3.9/site-packages (from pandas-profiling==3.1.1) (2.11.3)\n",
            "Requirement already satisfied: markupsafe~=2.0.1 in /Users/valentincyganok/miniforge3/envs/env_tensorflow/lib/python3.9/site-packages (from pandas-profiling==3.1.1) (2.0.1)\n",
            "Requirement already satisfied: visions[type_image_path]==0.7.4 in /Users/valentincyganok/miniforge3/envs/env_tensorflow/lib/python3.9/site-packages (from pandas-profiling==3.1.1) (0.7.4)\n",
            "Requirement already satisfied: numpy>=1.16.0 in /Users/valentincyganok/miniforge3/envs/env_tensorflow/lib/python3.9/site-packages (from pandas-profiling==3.1.1) (1.21.4)\n",
            "Requirement already satisfied: htmlmin>=0.1.12 in /Users/valentincyganok/miniforge3/envs/env_tensorflow/lib/python3.9/site-packages (from pandas-profiling==3.1.1) (0.1.12)\n",
            "Requirement already satisfied: missingno>=0.4.2 in /Users/valentincyganok/miniforge3/envs/env_tensorflow/lib/python3.9/site-packages (from pandas-profiling==3.1.1) (0.4.2)\n",
            "Requirement already satisfied: phik>=0.11.1 in /Users/valentincyganok/miniforge3/envs/env_tensorflow/lib/python3.9/site-packages (from pandas-profiling==3.1.1) (0.11.2)\n",
            "Requirement already satisfied: tangled-up-in-unicode==0.2.0 in /Users/valentincyganok/miniforge3/envs/env_tensorflow/lib/python3.9/site-packages (from pandas-profiling==3.1.1) (0.2.0)\n",
            "Requirement already satisfied: requests>=2.24.0 in /Users/valentincyganok/miniforge3/envs/env_tensorflow/lib/python3.9/site-packages (from pandas-profiling==3.1.1) (2.26.0)\n",
            "Requirement already satisfied: tqdm>=4.48.2 in /Users/valentincyganok/miniforge3/envs/env_tensorflow/lib/python3.9/site-packages (from pandas-profiling==3.1.1) (4.62.3)\n",
            "Requirement already satisfied: seaborn>=0.10.1 in /Users/valentincyganok/miniforge3/envs/env_tensorflow/lib/python3.9/site-packages (from pandas-profiling==3.1.1) (0.11.2)\n",
            "Requirement already satisfied: multimethod>=1.4 in /Users/valentincyganok/miniforge3/envs/env_tensorflow/lib/python3.9/site-packages (from pandas-profiling==3.1.1) (1.4)\n",
            "Requirement already satisfied: networkx>=2.4 in /Users/valentincyganok/miniforge3/envs/env_tensorflow/lib/python3.9/site-packages (from visions[type_image_path]==0.7.4->pandas-profiling==3.1.1) (2.6.3)\n",
            "Requirement already satisfied: attrs>=19.3.0 in /Users/valentincyganok/miniforge3/envs/env_tensorflow/lib/python3.9/site-packages (from visions[type_image_path]==0.7.4->pandas-profiling==3.1.1) (21.2.0)\n",
            "Requirement already satisfied: imagehash in /Users/valentincyganok/miniforge3/envs/env_tensorflow/lib/python3.9/site-packages (from visions[type_image_path]==0.7.4->pandas-profiling==3.1.1) (4.2.1)\n",
            "Requirement already satisfied: Pillow in /Users/valentincyganok/miniforge3/envs/env_tensorflow/lib/python3.9/site-packages (from visions[type_image_path]==0.7.4->pandas-profiling==3.1.1) (8.4.0)\n",
            "Requirement already satisfied: cycler>=0.10 in /Users/valentincyganok/miniforge3/envs/env_tensorflow/lib/python3.9/site-packages (from matplotlib>=3.2.0->pandas-profiling==3.1.1) (0.11.0)\n",
            "Requirement already satisfied: python-dateutil>=2.7 in /Users/valentincyganok/miniforge3/envs/env_tensorflow/lib/python3.9/site-packages (from matplotlib>=3.2.0->pandas-profiling==3.1.1) (2.8.2)\n",
            "Requirement already satisfied: kiwisolver>=1.0.1 in /Users/valentincyganok/miniforge3/envs/env_tensorflow/lib/python3.9/site-packages (from matplotlib>=3.2.0->pandas-profiling==3.1.1) (1.3.2)\n",
            "Requirement already satisfied: pyparsing>=2.2.1 in /Users/valentincyganok/miniforge3/envs/env_tensorflow/lib/python3.9/site-packages (from matplotlib>=3.2.0->pandas-profiling==3.1.1) (3.0.6)\n",
            "Requirement already satisfied: fonttools>=4.22.0 in /Users/valentincyganok/miniforge3/envs/env_tensorflow/lib/python3.9/site-packages (from matplotlib>=3.2.0->pandas-profiling==3.1.1) (4.28.3)\n",
            "Requirement already satisfied: packaging>=20.0 in /Users/valentincyganok/miniforge3/envs/env_tensorflow/lib/python3.9/site-packages (from matplotlib>=3.2.0->pandas-profiling==3.1.1) (21.3)\n",
            "Requirement already satisfied: pytz>=2017.3 in /Users/valentincyganok/miniforge3/envs/env_tensorflow/lib/python3.9/site-packages (from pandas!=1.0.0,!=1.0.1,!=1.0.2,!=1.1.0,>=0.25.3->pandas-profiling==3.1.1) (2021.3)\n",
            "Requirement already satisfied: typing-extensions>=3.7.4.3 in /Users/valentincyganok/miniforge3/envs/env_tensorflow/lib/python3.9/site-packages (from pydantic>=1.8.1->pandas-profiling==3.1.1) (4.0.1)\n",
            "Requirement already satisfied: certifi>=2017.4.17 in /Users/valentincyganok/miniforge3/envs/env_tensorflow/lib/python3.9/site-packages (from requests>=2.24.0->pandas-profiling==3.1.1) (2021.10.8)\n",
            "Requirement already satisfied: idna<4,>=2.5 in /Users/valentincyganok/miniforge3/envs/env_tensorflow/lib/python3.9/site-packages (from requests>=2.24.0->pandas-profiling==3.1.1) (3.1)\n",
            "Requirement already satisfied: charset-normalizer~=2.0.0 in /Users/valentincyganok/miniforge3/envs/env_tensorflow/lib/python3.9/site-packages (from requests>=2.24.0->pandas-profiling==3.1.1) (2.0.8)\n",
            "Requirement already satisfied: urllib3<1.27,>=1.21.1 in /Users/valentincyganok/miniforge3/envs/env_tensorflow/lib/python3.9/site-packages (from requests>=2.24.0->pandas-profiling==3.1.1) (1.26.7)\n",
            "Requirement already satisfied: six>=1.5 in /Users/valentincyganok/miniforge3/envs/env_tensorflow/lib/python3.9/site-packages (from python-dateutil>=2.7->matplotlib>=3.2.0->pandas-profiling==3.1.1) (1.15.0)\n",
            "Requirement already satisfied: PyWavelets in /Users/valentincyganok/miniforge3/envs/env_tensorflow/lib/python3.9/site-packages (from imagehash->visions[type_image_path]==0.7.4->pandas-profiling==3.1.1) (1.2.0)\n",
            "Requirement already satisfied: xlwt in /Users/valentincyganok/miniforge3/envs/env_tensorflow/lib/python3.9/site-packages (1.3.0)\n"
          ]
        }
      ],
      "source": [
        "!pip install https://github.com/pandas-profiling/pandas-profiling/archive/master.zip\n",
        "!pip install xlwt"
      ]
    },
    {
      "cell_type": "code",
      "execution_count": 604,
      "metadata": {},
      "outputs": [],
      "source": [
        "import pandas as pd\n",
        "import numpy as np\n",
        "from sklearn.preprocessing import LabelEncoder\n",
        "from sklearn.model_selection import train_test_split\n",
        "from sklearn.preprocessing import StandardScaler\n",
        "import math\n",
        "from sklearn.metrics import f1_score\n",
        "import copy"
      ]
    },
    {
      "cell_type": "markdown",
      "metadata": {},
      "source": [
        "# 2. Обработка данных"
      ]
    },
    {
      "cell_type": "code",
      "execution_count": 590,
      "metadata": {},
      "outputs": [
        {
          "data": {
            "text/html": [
              "<div>\n",
              "<style scoped>\n",
              "    .dataframe tbody tr th:only-of-type {\n",
              "        vertical-align: middle;\n",
              "    }\n",
              "\n",
              "    .dataframe tbody tr th {\n",
              "        vertical-align: top;\n",
              "    }\n",
              "\n",
              "    .dataframe thead th {\n",
              "        text-align: right;\n",
              "    }\n",
              "</style>\n",
              "<table border=\"1\" class=\"dataframe\">\n",
              "  <thead>\n",
              "    <tr style=\"text-align: right;\">\n",
              "      <th></th>\n",
              "      <th>Unnamed: 0</th>\n",
              "      <th>Sepal.Length</th>\n",
              "      <th>Sepal.Width</th>\n",
              "      <th>Petal.Length</th>\n",
              "      <th>Petal.Width</th>\n",
              "      <th>Species</th>\n",
              "    </tr>\n",
              "  </thead>\n",
              "  <tbody>\n",
              "    <tr>\n",
              "      <th>0</th>\n",
              "      <td>1</td>\n",
              "      <td>5.1</td>\n",
              "      <td>3.5</td>\n",
              "      <td>1.4</td>\n",
              "      <td>0.2</td>\n",
              "      <td>setosa</td>\n",
              "    </tr>\n",
              "    <tr>\n",
              "      <th>1</th>\n",
              "      <td>2</td>\n",
              "      <td>4.9</td>\n",
              "      <td>3.0</td>\n",
              "      <td>1.4</td>\n",
              "      <td>0.2</td>\n",
              "      <td>setosa</td>\n",
              "    </tr>\n",
              "    <tr>\n",
              "      <th>2</th>\n",
              "      <td>3</td>\n",
              "      <td>4.7</td>\n",
              "      <td>3.2</td>\n",
              "      <td>1.3</td>\n",
              "      <td>0.2</td>\n",
              "      <td>setosa</td>\n",
              "    </tr>\n",
              "    <tr>\n",
              "      <th>3</th>\n",
              "      <td>4</td>\n",
              "      <td>4.6</td>\n",
              "      <td>3.1</td>\n",
              "      <td>1.5</td>\n",
              "      <td>0.2</td>\n",
              "      <td>setosa</td>\n",
              "    </tr>\n",
              "    <tr>\n",
              "      <th>4</th>\n",
              "      <td>5</td>\n",
              "      <td>5.0</td>\n",
              "      <td>3.6</td>\n",
              "      <td>1.4</td>\n",
              "      <td>0.2</td>\n",
              "      <td>setosa</td>\n",
              "    </tr>\n",
              "  </tbody>\n",
              "</table>\n",
              "</div>"
            ],
            "text/plain": [
              "   Unnamed: 0  Sepal.Length  Sepal.Width  Petal.Length  Petal.Width Species\n",
              "0           1           5.1          3.5           1.4          0.2  setosa\n",
              "1           2           4.9          3.0           1.4          0.2  setosa\n",
              "2           3           4.7          3.2           1.3          0.2  setosa\n",
              "3           4           4.6          3.1           1.5          0.2  setosa\n",
              "4           5           5.0          3.6           1.4          0.2  setosa"
            ]
          },
          "execution_count": 590,
          "metadata": {},
          "output_type": "execute_result"
        }
      ],
      "source": [
        "df=pd.read_csv('https://forge.scilab.org/index.php/p/rdataset/source/file/master/csv/datasets/iris.csv')\n",
        "df.head()"
      ]
    },
    {
      "cell_type": "code",
      "execution_count": 591,
      "metadata": {},
      "outputs": [
        {
          "data": {
            "text/plain": [
              "(150, 6)"
            ]
          },
          "execution_count": 591,
          "metadata": {},
          "output_type": "execute_result"
        }
      ],
      "source": [
        "df.shape"
      ]
    },
    {
      "cell_type": "code",
      "execution_count": 592,
      "metadata": {},
      "outputs": [
        {
          "data": {
            "text/plain": [
              "Unnamed: 0        int64\n",
              "Sepal.Length    float64\n",
              "Sepal.Width     float64\n",
              "Petal.Length    float64\n",
              "Petal.Width     float64\n",
              "Species          object\n",
              "dtype: object"
            ]
          },
          "execution_count": 592,
          "metadata": {},
          "output_type": "execute_result"
        }
      ],
      "source": [
        "df.dtypes"
      ]
    },
    {
      "cell_type": "code",
      "execution_count": 593,
      "metadata": {},
      "outputs": [
        {
          "data": {
            "text/plain": [
              "array(['setosa', 'versicolor', 'virginica'], dtype=object)"
            ]
          },
          "execution_count": 593,
          "metadata": {},
          "output_type": "execute_result"
        }
      ],
      "source": [
        "df.Species.unique()"
      ]
    },
    {
      "cell_type": "code",
      "execution_count": 595,
      "metadata": {},
      "outputs": [
        {
          "data": {
            "text/html": [
              "<div>\n",
              "<style scoped>\n",
              "    .dataframe tbody tr th:only-of-type {\n",
              "        vertical-align: middle;\n",
              "    }\n",
              "\n",
              "    .dataframe tbody tr th {\n",
              "        vertical-align: top;\n",
              "    }\n",
              "\n",
              "    .dataframe thead th {\n",
              "        text-align: right;\n",
              "    }\n",
              "</style>\n",
              "<table border=\"1\" class=\"dataframe\">\n",
              "  <thead>\n",
              "    <tr style=\"text-align: right;\">\n",
              "      <th></th>\n",
              "      <th>Sepal.Length</th>\n",
              "      <th>Sepal.Width</th>\n",
              "      <th>Petal.Length</th>\n",
              "      <th>Petal.Width</th>\n",
              "      <th>Species</th>\n",
              "    </tr>\n",
              "  </thead>\n",
              "  <tbody>\n",
              "    <tr>\n",
              "      <th>50</th>\n",
              "      <td>7.0</td>\n",
              "      <td>3.2</td>\n",
              "      <td>4.7</td>\n",
              "      <td>1.4</td>\n",
              "      <td>versicolor</td>\n",
              "    </tr>\n",
              "    <tr>\n",
              "      <th>51</th>\n",
              "      <td>6.4</td>\n",
              "      <td>3.2</td>\n",
              "      <td>4.5</td>\n",
              "      <td>1.5</td>\n",
              "      <td>versicolor</td>\n",
              "    </tr>\n",
              "    <tr>\n",
              "      <th>52</th>\n",
              "      <td>6.9</td>\n",
              "      <td>3.1</td>\n",
              "      <td>4.9</td>\n",
              "      <td>1.5</td>\n",
              "      <td>versicolor</td>\n",
              "    </tr>\n",
              "    <tr>\n",
              "      <th>53</th>\n",
              "      <td>5.5</td>\n",
              "      <td>2.3</td>\n",
              "      <td>4.0</td>\n",
              "      <td>1.3</td>\n",
              "      <td>versicolor</td>\n",
              "    </tr>\n",
              "    <tr>\n",
              "      <th>54</th>\n",
              "      <td>6.5</td>\n",
              "      <td>2.8</td>\n",
              "      <td>4.6</td>\n",
              "      <td>1.5</td>\n",
              "      <td>versicolor</td>\n",
              "    </tr>\n",
              "  </tbody>\n",
              "</table>\n",
              "</div>"
            ],
            "text/plain": [
              "    Sepal.Length  Sepal.Width  Petal.Length  Petal.Width     Species\n",
              "50           7.0          3.2           4.7          1.4  versicolor\n",
              "51           6.4          3.2           4.5          1.5  versicolor\n",
              "52           6.9          3.1           4.9          1.5  versicolor\n",
              "53           5.5          2.3           4.0          1.3  versicolor\n",
              "54           6.5          2.8           4.6          1.5  versicolor"
            ]
          },
          "execution_count": 595,
          "metadata": {},
          "output_type": "execute_result"
        }
      ],
      "source": [
        "df = df[df.Species != 'setosa']\n",
        "df = df.drop(columns='Unnamed: 0')\n",
        "df.head()"
      ]
    },
    {
      "cell_type": "code",
      "execution_count": 596,
      "metadata": {},
      "outputs": [
        {
          "data": {
            "text/html": [
              "<div>\n",
              "<style scoped>\n",
              "    .dataframe tbody tr th:only-of-type {\n",
              "        vertical-align: middle;\n",
              "    }\n",
              "\n",
              "    .dataframe tbody tr th {\n",
              "        vertical-align: top;\n",
              "    }\n",
              "\n",
              "    .dataframe thead th {\n",
              "        text-align: right;\n",
              "    }\n",
              "</style>\n",
              "<table border=\"1\" class=\"dataframe\">\n",
              "  <thead>\n",
              "    <tr style=\"text-align: right;\">\n",
              "      <th></th>\n",
              "      <th>Sepal.Length</th>\n",
              "      <th>Sepal.Width</th>\n",
              "      <th>Petal.Length</th>\n",
              "      <th>Petal.Width</th>\n",
              "      <th>Species</th>\n",
              "    </tr>\n",
              "  </thead>\n",
              "  <tbody>\n",
              "    <tr>\n",
              "      <th>50</th>\n",
              "      <td>1.119009</td>\n",
              "      <td>0.990688</td>\n",
              "      <td>-0.250779</td>\n",
              "      <td>-0.653039</td>\n",
              "      <td>0</td>\n",
              "    </tr>\n",
              "    <tr>\n",
              "      <th>51</th>\n",
              "      <td>0.209246</td>\n",
              "      <td>0.990688</td>\n",
              "      <td>-0.494254</td>\n",
              "      <td>-0.416431</td>\n",
              "      <td>0</td>\n",
              "    </tr>\n",
              "    <tr>\n",
              "      <th>52</th>\n",
              "      <td>0.967382</td>\n",
              "      <td>0.688649</td>\n",
              "      <td>-0.007304</td>\n",
              "      <td>-0.416431</td>\n",
              "      <td>0</td>\n",
              "    </tr>\n",
              "    <tr>\n",
              "      <th>53</th>\n",
              "      <td>-1.155400</td>\n",
              "      <td>-1.727663</td>\n",
              "      <td>-1.102941</td>\n",
              "      <td>-0.889647</td>\n",
              "      <td>0</td>\n",
              "    </tr>\n",
              "    <tr>\n",
              "      <th>54</th>\n",
              "      <td>0.360873</td>\n",
              "      <td>-0.217468</td>\n",
              "      <td>-0.372516</td>\n",
              "      <td>-0.416431</td>\n",
              "      <td>0</td>\n",
              "    </tr>\n",
              "  </tbody>\n",
              "</table>\n",
              "</div>"
            ],
            "text/plain": [
              "    Sepal.Length  Sepal.Width  Petal.Length  Petal.Width  Species\n",
              "50      1.119009     0.990688     -0.250779    -0.653039        0\n",
              "51      0.209246     0.990688     -0.494254    -0.416431        0\n",
              "52      0.967382     0.688649     -0.007304    -0.416431        0\n",
              "53     -1.155400    -1.727663     -1.102941    -0.889647        0\n",
              "54      0.360873    -0.217468     -0.372516    -0.416431        0"
            ]
          },
          "execution_count": 596,
          "metadata": {},
          "output_type": "execute_result"
        }
      ],
      "source": [
        "le =LabelEncoder()\n",
        "sc = StandardScaler()\n",
        "numeric_cols=['Sepal.Length','Sepal.Width','Petal.Length','Petal.Width']\n",
        "y='Species'\n",
        "df[y]=le.fit_transform(df[y])\n",
        "df[numeric_cols]=sc.fit_transform(df[numeric_cols])\n",
        "df.head()"
      ]
    },
    {
      "cell_type": "code",
      "execution_count": 597,
      "metadata": {},
      "outputs": [],
      "source": [
        "X=df.drop('Species',axis=1)\n",
        "y=df['Species']\n",
        "X_train, X_test, y_train, y_test = train_test_split(X, y, test_size=0.2, random_state=42)"
      ]
    },
    {
      "cell_type": "markdown",
      "metadata": {},
      "source": [
        "## 3. Создание модели логистической регресии"
      ]
    },
    {
      "cell_type": "code",
      "execution_count": 600,
      "metadata": {},
      "outputs": [],
      "source": [
        "import pandas as pd\n",
        "import numpy as np\n",
        "\n",
        "class LogisticRegression:\n",
        "    _coef=[]\n",
        "    _lr=0\n",
        "    _epoches=0\n",
        "    _method=''\n",
        "    __X=[]\n",
        "    __y=[]\n",
        "    __features = 0\n",
        "\n",
        "    def __data_trasform(self,X,y=[]):\n",
        "        xt=X.to_numpy()\n",
        "        xt=np.insert( xt, 0, np.ones(xt.shape[0]), axis=1)\n",
        "        if(len(y) !=0):\n",
        "            yt=y.to_numpy()\n",
        "            return xt,yt\n",
        "        else:\n",
        "            return xt\n",
        "\n",
        "    def __fit(self,X, y):\n",
        "        self.__X, self.__y = self.__data_trasform(X,y)\n",
        "        self.__features=self.__X.shape[1]\n",
        "        self._coef=np.zeros(self.__features)\n",
        "        \n",
        "    def __calc_y(self, x=[]):\n",
        "        result=np.array([])\n",
        "        if(len(x)==0):\n",
        "            x=self.__X\n",
        "        else:\n",
        "            x=self.__data_trasform(x)\n",
        "        for r in range(x.shape[0]):\n",
        "            sign=np.multiply(x[r],self._coef)\n",
        "            sign=sign = 1/(1+math.exp(-sum(sign)))\n",
        "            result=np.append(result,sign)\n",
        "        return result\n",
        "    \n",
        "    def __calc_cost(self):\n",
        "        h = self.__calc_y()\n",
        "        cost = self.__y*np.log(h) + (1-self.__y)*np.log(1-h)\n",
        "        cost=sum(cost)/self.__X.shape[0]*-1\n",
        "        return cost\n",
        "    \n",
        "    def __calc_gradient(self):\n",
        "        h=self.__calc_y()\n",
        "        y=self.__y\n",
        "        rows=self.__X.shape[0]\n",
        "        gradient=np.array([])\n",
        "        for f in range(self.__features):\n",
        "            x=self.__X.T[f]\n",
        "            gradient=np.append(gradient, sum((h-y)*x)/rows )\n",
        "        return gradient\n",
        "    \n",
        "    def __gradient_descent(self):\n",
        "        for _ in range(self._epoches):\n",
        "            self._coef -= self.__calc_gradient()*self._lr\n",
        "            if (self.__calc_cost() < .1):\n",
        "                break\n",
        "    \n",
        "    def __decision_boundary(self, prob):\n",
        "        return 1 if prob >= .5 else 0\n",
        "    \n",
        "    def __nesterov_momentum(self):\n",
        "        coef = self._coef\n",
        "        mu=np.full((self.__features),0.9)\n",
        "        v=np.full((self.__features),0)\n",
        "        for _ in range(self._epoches):\n",
        "            self._coef= self._coef + (mu * v )\n",
        "            v = mu * v - self.__calc_gradient()*self._lr\n",
        "            self._coef = coef + v\n",
        "            if (self.__calc_cost() < .1):\n",
        "                break\n",
        "\n",
        "    def __RMSprop(self):\n",
        "      cache=0\n",
        "      decay_rate=.99\n",
        "      eps = 0.000001\n",
        "      for _ in range(self._epoches):\n",
        "        cache = decay_rate * cache + (1 - decay_rate) *  self.__calc_gradient()**2\n",
        "        self._coef += - self._lr *  self.__calc_gradient() / (np.sqrt(cache) + eps)\n",
        "        if (self.__calc_cost() < .1):\n",
        "          break\n",
        "    \n",
        "    def predict(self,X):\n",
        "        y=self.__calc_y(X)\n",
        "        y= y.tolist()\n",
        "        for i in range(len(y)):\n",
        "            y[i]=self.__decision_boundary(y[i])\n",
        "        return y\n",
        "\n",
        "        \n",
        "    \n",
        "    def train(self, X, y):\n",
        "        self.__fit(X,y)\n",
        "        if(self._method == 'gradient' ):\n",
        "          self.__gradient_descent()\n",
        "        elif(self._method == 'nesterov'):\n",
        "          self.__nesterov_momentum()\n",
        "        elif(self._method == 'RMSprop'):\n",
        "          self.__RMSprop()\n",
        "        else:\n",
        "          \"Установлен неправильны оптимизатор\"\n",
        "\n",
        "    def __init__(self,learnig_rate=0.01 , epoches = 1000, method='gradient'):\n",
        "        self._lr = learnig_rate\n",
        "        self._epoches = epoches\n",
        "        self._method=method"
      ]
    },
    {
      "cell_type": "markdown",
      "metadata": {},
      "source": [
        "## 4. Оценка модели с градиентным спуском"
      ]
    },
    {
      "cell_type": "code",
      "execution_count": 617,
      "metadata": {},
      "outputs": [
        {
          "name": "stdout",
          "output_type": "stream",
          "text": [
            "F1 score on testing data: 93.33%\n"
          ]
        }
      ],
      "source": [
        "gradient_model=LogisticRegression(0.05,100,'gradient')\n",
        "gradient_model.train(X_train,y_train)\n",
        "y_pred=gradient_model.predict(X_test)\n",
        "print('F1 score on testing data: {:.2f}%'.format(100*f1_score(y_test, y_pred)))"
      ]
    },
    {
      "cell_type": "markdown",
      "metadata": {},
      "source": [
        "##  5. Оценка модели с nesterov momentum"
      ]
    },
    {
      "cell_type": "code",
      "execution_count": 628,
      "metadata": {},
      "outputs": [
        {
          "name": "stdout",
          "output_type": "stream",
          "text": [
            "F1 score on testing data: 93.33%\n"
          ]
        }
      ],
      "source": [
        "nesterov_model=LogisticRegression(0.015,100,'nesterov')\n",
        "nesterov_model.train(X_train,y_train)\n",
        "y_pred=nesterov_model.predict(X_test)\n",
        "print('F1 score on testing data: {:.2f}%'.format(100*f1_score(y_test, y_pred)))"
      ]
    },
    {
      "cell_type": "markdown",
      "metadata": {},
      "source": [
        "## 6. Оценка модели с RMSprop"
      ]
    },
    {
      "cell_type": "code",
      "execution_count": 743,
      "metadata": {},
      "outputs": [
        {
          "name": "stdout",
          "output_type": "stream",
          "text": [
            "F1 score on testing data: 94.12%\n"
          ]
        }
      ],
      "source": [
        "rms_model=LogisticRegression(0.001,100,'RMSprop')\n",
        "rms_model.train(X_train,y_train)\n",
        "y_pred=rms_model.predict(X_test)\n",
        "print('F1 score on testing data: {:.2f}%'.format(100*f1_score(y_test, y_pred)))"
      ]
    },
    {
      "cell_type": "markdown",
      "metadata": {},
      "source": [
        "## 7. Проверка лучших параметров модели на всем датасете"
      ]
    },
    {
      "cell_type": "code",
      "execution_count": 744,
      "metadata": {},
      "outputs": [
        {
          "name": "stdout",
          "output_type": "stream",
          "text": [
            "F1 score on testing data: 85.71%\n"
          ]
        }
      ],
      "source": [
        "result=copy.deepcopy(X)\n",
        "result['Species']=y\n",
        "result['predict']=rms_model.predict(X)\n",
        "print('F1 score on testing data: {:.2f}%'.format(100*f1_score(y, rms_model.predict(X))))"
      ]
    },
    {
      "cell_type": "code",
      "execution_count": 714,
      "metadata": {},
      "outputs": [],
      "source": [
        "result['Species']=le.inverse_transform(result['Species'])\n",
        "result['predict']=le.inverse_transform(result['predict'])"
      ]
    },
    {
      "cell_type": "code",
      "execution_count": 715,
      "metadata": {},
      "outputs": [
        {
          "data": {
            "text/html": [
              "<div>\n",
              "<style scoped>\n",
              "    .dataframe tbody tr th:only-of-type {\n",
              "        vertical-align: middle;\n",
              "    }\n",
              "\n",
              "    .dataframe tbody tr th {\n",
              "        vertical-align: top;\n",
              "    }\n",
              "\n",
              "    .dataframe thead th {\n",
              "        text-align: right;\n",
              "    }\n",
              "</style>\n",
              "<table border=\"1\" class=\"dataframe\">\n",
              "  <thead>\n",
              "    <tr style=\"text-align: right;\">\n",
              "      <th></th>\n",
              "      <th>Sepal.Length</th>\n",
              "      <th>Sepal.Width</th>\n",
              "      <th>Petal.Length</th>\n",
              "      <th>Petal.Width</th>\n",
              "      <th>Species</th>\n",
              "      <th>predict</th>\n",
              "    </tr>\n",
              "  </thead>\n",
              "  <tbody>\n",
              "    <tr>\n",
              "      <th>50</th>\n",
              "      <td>1.119009</td>\n",
              "      <td>0.990688</td>\n",
              "      <td>-0.250779</td>\n",
              "      <td>-0.653039</td>\n",
              "      <td>versicolor</td>\n",
              "      <td>versicolor</td>\n",
              "    </tr>\n",
              "    <tr>\n",
              "      <th>51</th>\n",
              "      <td>0.209246</td>\n",
              "      <td>0.990688</td>\n",
              "      <td>-0.494254</td>\n",
              "      <td>-0.416431</td>\n",
              "      <td>versicolor</td>\n",
              "      <td>versicolor</td>\n",
              "    </tr>\n",
              "    <tr>\n",
              "      <th>52</th>\n",
              "      <td>0.967382</td>\n",
              "      <td>0.688649</td>\n",
              "      <td>-0.007304</td>\n",
              "      <td>-0.416431</td>\n",
              "      <td>versicolor</td>\n",
              "      <td>versicolor</td>\n",
              "    </tr>\n",
              "    <tr>\n",
              "      <th>53</th>\n",
              "      <td>-1.155400</td>\n",
              "      <td>-1.727663</td>\n",
              "      <td>-1.102941</td>\n",
              "      <td>-0.889647</td>\n",
              "      <td>versicolor</td>\n",
              "      <td>versicolor</td>\n",
              "    </tr>\n",
              "    <tr>\n",
              "      <th>54</th>\n",
              "      <td>0.360873</td>\n",
              "      <td>-0.217468</td>\n",
              "      <td>-0.372516</td>\n",
              "      <td>-0.416431</td>\n",
              "      <td>versicolor</td>\n",
              "      <td>versicolor</td>\n",
              "    </tr>\n",
              "    <tr>\n",
              "      <th>...</th>\n",
              "      <td>...</td>\n",
              "      <td>...</td>\n",
              "      <td>...</td>\n",
              "      <td>...</td>\n",
              "      <td>...</td>\n",
              "      <td>...</td>\n",
              "    </tr>\n",
              "    <tr>\n",
              "      <th>145</th>\n",
              "      <td>0.664127</td>\n",
              "      <td>0.386610</td>\n",
              "      <td>0.357908</td>\n",
              "      <td>1.476436</td>\n",
              "      <td>virginica</td>\n",
              "      <td>virginica</td>\n",
              "    </tr>\n",
              "    <tr>\n",
              "      <th>146</th>\n",
              "      <td>0.057618</td>\n",
              "      <td>-1.123585</td>\n",
              "      <td>0.114433</td>\n",
              "      <td>0.530003</td>\n",
              "      <td>virginica</td>\n",
              "      <td>virginica</td>\n",
              "    </tr>\n",
              "    <tr>\n",
              "      <th>147</th>\n",
              "      <td>0.360873</td>\n",
              "      <td>0.386610</td>\n",
              "      <td>0.357908</td>\n",
              "      <td>0.766611</td>\n",
              "      <td>virginica</td>\n",
              "      <td>virginica</td>\n",
              "    </tr>\n",
              "    <tr>\n",
              "      <th>148</th>\n",
              "      <td>-0.094009</td>\n",
              "      <td>1.594766</td>\n",
              "      <td>0.601383</td>\n",
              "      <td>1.476436</td>\n",
              "      <td>virginica</td>\n",
              "      <td>virginica</td>\n",
              "    </tr>\n",
              "    <tr>\n",
              "      <th>149</th>\n",
              "      <td>-0.548891</td>\n",
              "      <td>0.386610</td>\n",
              "      <td>0.236171</td>\n",
              "      <td>0.293394</td>\n",
              "      <td>virginica</td>\n",
              "      <td>virginica</td>\n",
              "    </tr>\n",
              "  </tbody>\n",
              "</table>\n",
              "<p>100 rows × 6 columns</p>\n",
              "</div>"
            ],
            "text/plain": [
              "     Sepal.Length  Sepal.Width  Petal.Length  Petal.Width     Species  \\\n",
              "50       1.119009     0.990688     -0.250779    -0.653039  versicolor   \n",
              "51       0.209246     0.990688     -0.494254    -0.416431  versicolor   \n",
              "52       0.967382     0.688649     -0.007304    -0.416431  versicolor   \n",
              "53      -1.155400    -1.727663     -1.102941    -0.889647  versicolor   \n",
              "54       0.360873    -0.217468     -0.372516    -0.416431  versicolor   \n",
              "..            ...          ...           ...          ...         ...   \n",
              "145      0.664127     0.386610      0.357908     1.476436   virginica   \n",
              "146      0.057618    -1.123585      0.114433     0.530003   virginica   \n",
              "147      0.360873     0.386610      0.357908     0.766611   virginica   \n",
              "148     -0.094009     1.594766      0.601383     1.476436   virginica   \n",
              "149     -0.548891     0.386610      0.236171     0.293394   virginica   \n",
              "\n",
              "        predict  \n",
              "50   versicolor  \n",
              "51   versicolor  \n",
              "52   versicolor  \n",
              "53   versicolor  \n",
              "54   versicolor  \n",
              "..          ...  \n",
              "145   virginica  \n",
              "146   virginica  \n",
              "147   virginica  \n",
              "148   virginica  \n",
              "149   virginica  \n",
              "\n",
              "[100 rows x 6 columns]"
            ]
          },
          "execution_count": 715,
          "metadata": {},
          "output_type": "execute_result"
        }
      ],
      "source": [
        "result.head(100)\n"
      ]
    }
  ],
  "metadata": {
    "colab": {
      "name": "FEML_Logistic_Regression.ipynb",
      "provenance": []
    },
    "kernelspec": {
      "display_name": "Python 3",
      "name": "python3"
    },
    "language_info": {
      "codemirror_mode": {
        "name": "ipython",
        "version": 3
      },
      "file_extension": ".py",
      "mimetype": "text/x-python",
      "name": "python",
      "nbconvert_exporter": "python",
      "pygments_lexer": "ipython3",
      "version": "3.9.7"
    }
  },
  "nbformat": 4,
  "nbformat_minor": 0
}
